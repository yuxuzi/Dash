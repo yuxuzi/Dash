{
  "nbformat": 4,
  "nbformat_minor": 0,
  "metadata": {
    "colab": {
      "name": "Edge Stream Solution.ipynb",
      "provenance": [],
      "authorship_tag": "ABX9TyM4yhb2r+dr+spmvo2aBQsz",
      "include_colab_link": true
    },
    "kernelspec": {
      "name": "python3",
      "display_name": "Python 3"
    }
  },
  "cells": [
    {
      "cell_type": "markdown",
      "metadata": {
        "id": "view-in-github",
        "colab_type": "text"
      },
      "source": [
        "<a href=\"https://colab.research.google.com/github/yuxuzi/Dash/blob/master/Edge_Stream_Solution.ipynb\" target=\"_parent\"><img src=\"https://colab.research.google.com/assets/colab-badge.svg\" alt=\"Open In Colab\"/></a>"
      ]
    },
    {
      "cell_type": "markdown",
      "metadata": {
        "id": "dIJBzZTq2N_t"
      },
      "source": [
        "# Edge Stream Code Exam"
      ]
    },
    {
      "cell_type": "markdown",
      "metadata": {
        "id": "jJNQhCLlghLH"
      },
      "source": [
        "##  Interpolate prices\r\n",
        "\r\n",
        "Solution 1.  Since Scipy has interpolate.interp1d fuction. We can use it to do linear interpolation. It also has the extrapolate option.\r\n",
        "\r\n",
        "Solution 2. Without usign scipy \r\n",
        "\r\n",
        "* Scan the list and ignore prices that less or equal to 0\r\n",
        "* Find the neigbor index of the n\r\n",
        "* Interpolate or extrapolate\r\n",
        "\r\n",
        "Performance\r\n",
        "* The time complexity is O(N) for scanning the lists of length N. \r\n",
        "* The space complexity is O(N)\r\n",
        "* Early return makes code efficient\r\n",
        "* The solution 2 matches the solution 1, and ten times faster for short list.\r\n",
        "* The solution 1 may be efficient for large data.\r\n",
        "\r\n"
      ]
    },
    {
      "cell_type": "markdown",
      "metadata": {
        "id": "M0BwT0aI2LKW"
      },
      "source": [
        ""
      ]
    },
    {
      "cell_type": "code",
      "metadata": {
        "id": "_fEZJ-Akghz2"
      },
      "source": [
        "from typing import List\r\n",
        "import numpy as np\r\n",
        "from scipy import interpolate\r\n",
        "\r\n",
        "def interpolate_prices0(n:int, instances:List[int], prices:List[float])->float:\r\n",
        "    \"\"\"\r\n",
        "    interpolate using scipy.interpolate.\r\n",
        "    :params:\r\n",
        "      n : instance to find price\r\n",
        "      instances: previous instances\r\n",
        "      prices: previous prices\r\n",
        "    :return:\r\n",
        "      price for the instance\r\n",
        "    \"\"\"\r\n",
        "    # Convert instances and prices to numpy array\r\n",
        "    # filter prices that \r\n",
        "    y0=np.array(prices)  \r\n",
        "    x=np.array(instances)[y0>0]\r\n",
        "    y=y0[y0>0]\r\n",
        "    # return -1 if no price availabe\r\n",
        "    if len(y)==0:\r\n",
        "        return -1\r\n",
        "    # calling interpolate.interp1d using linear interpolation \r\n",
        "    # with extrapolatin \r\n",
        "    price=interpolate.interp1d(x, y, fill_value='extrapolate')(n)\r\n",
        "    return float(price)"
      ],
      "execution_count": null,
      "outputs": []
    },
    {
      "cell_type": "code",
      "metadata": {
        "id": "gKQhKNOs4kv_"
      },
      "source": [
        "def interpolate_prices1(n:int, instances:List[int], prices:List[float])->float:\r\n",
        "    \"\"\"\r\n",
        "    interpolate using scipy.interpolate.\r\n",
        "    :params:\r\n",
        "      n : instance to find price\r\n",
        "      instances: previous instances\r\n",
        "      prices: previous prices\r\n",
        "    :return:\r\n",
        "      price for the instance\r\n",
        "    \"\"\"\r\n",
        "    # x, y are lists to collect previous instances and prices\r\n",
        "    x,y=[],[]\r\n",
        "    # use idx to locate the index where the entry of instances\r\n",
        "    # just passes n\r\n",
        "    idx=0    \r\n",
        "    for num, price in zip(instances, prices):\r\n",
        "        if price>0:\r\n",
        "            x.append(num)\r\n",
        "            y.append(price)\r\n",
        "            if num<n:\r\n",
        "                idx+=1\r\n",
        "            # early return when instance matches\r\n",
        "            elif num==n:\r\n",
        "                return price\r\n",
        "            # bigger instance found \r\n",
        "            # idx >1 is required for extrapolation from beginning(left)\r\n",
        "            elif idx>1:\r\n",
        "                break \r\n",
        "\r\n",
        "    # return -1 if no price availalbe\r\n",
        "    if len(y)==0:\r\n",
        "        return -1\r\n",
        "    # return the price if only one price available.    \r\n",
        "    if len(y)==1:\r\n",
        "        return y[0]\r\n",
        "           \r\n",
        "    # points for extrapolation from the right\r\n",
        "    if idx==len(x):\r\n",
        "        i0,i1=-2,-1\r\n",
        "    #  points for extrapolation from the left\r\n",
        "    elif idx==0:\r\n",
        "        i0,i1=0,1\r\n",
        "    # points for interpolation\r\n",
        "    else:\r\n",
        "        i0,i1=idx-1, idx\r\n",
        "\r\n",
        "    # linear interpolation\r\n",
        "    p=(y[i1]-y[i0])/(x[i1]-x[i0])*(n-x[i0])+y[i0]\r\n",
        "\r\n",
        "    return p\r\n",
        "\r\n",
        "    \r\n",
        "        \r\n",
        "         \r\n",
        "    "
      ],
      "execution_count": null,
      "outputs": []
    },
    {
      "cell_type": "code",
      "metadata": {
        "colab": {
          "base_uri": "https://localhost:8080/"
        },
        "id": "CX5V9VjHBNjs",
        "outputId": "03ebf841-7b4d-41df-b2d1-9f16e8304d90"
      },
      "source": [
        "# test computation\r\n",
        "for n in [2,5 ,7, 9, 15,17, 47 ]:\r\n",
        "    p0=interpolate_prices0(n, instances, prices)\r\n",
        "    p1=interpolate_prices1(n, instances, prices)\r\n",
        "    print(f\"Interpolated price using scipy:{p0:.2f}\")\r\n",
        "    print(f\"Interpolated price using buld-in:{p1:.2f}\")\r\n",
        "\r\n"
      ],
      "execution_count": null,
      "outputs": [
        {
          "output_type": "stream",
          "text": [
            "Interpolated price using scipy:101.93\n",
            "Interpolated price using list:101.93\n",
            "Interpolated price using scipy:105.13\n",
            "Interpolated price using list:105.13\n",
            "Interpolated price using scipy:107.26\n",
            "Interpolated price using list:107.26\n",
            "Interpolated price using scipy:109.43\n",
            "Interpolated price using list:109.43\n",
            "Interpolated price using scipy:116.20\n",
            "Interpolated price using list:116.20\n",
            "Interpolated price using scipy:118.53\n",
            "Interpolated price using list:118.53\n",
            "Interpolated price using scipy:159.86\n",
            "Interpolated price using list:159.86\n"
          ],
          "name": "stdout"
        }
      ]
    },
    {
      "cell_type": "code",
      "metadata": {
        "colab": {
          "base_uri": "https://localhost:8080/"
        },
        "id": "c1SZv3WGGrlq",
        "outputId": "2964c2ff-785b-463f-a168-ac63c94dc0f7"
      },
      "source": [
        "# test performance\r\n",
        "%%timeit\r\n",
        "for n in [2,5 ,7, 9, 15,17 ]:\r\n",
        "    p0=interpolate_prices0(n, instances, prices)"
      ],
      "execution_count": null,
      "outputs": [
        {
          "output_type": "stream",
          "text": [
            "1000 loops, best of 3: 595 µs per loop\n"
          ],
          "name": "stdout"
        }
      ]
    },
    {
      "cell_type": "code",
      "metadata": {
        "colab": {
          "base_uri": "https://localhost:8080/"
        },
        "id": "jxUEIzGIGyhp",
        "outputId": "1793c683-8f33-4eb0-e81e-37bf7bfc2de6"
      },
      "source": [
        "%%timeit\r\n",
        "for n in [2,5 ,7, 9, 15,17 ]:\r\n",
        "    p1=interpolate_prices1(n, instances, prices)"
      ],
      "execution_count": null,
      "outputs": [
        {
          "output_type": "stream",
          "text": [
            "10000 loops, best of 3: 63.5 µs per loop\n"
          ],
          "name": "stdout"
        }
      ]
    },
    {
      "cell_type": "markdown",
      "metadata": {
        "id": "Kk8yGHvYOrEl"
      },
      "source": [
        "## Problem II Simple text query\r\n",
        "\r\n",
        "Solution: \r\n",
        "* Use Counter memorize the word counts for sentences and phrases\r\n",
        "* Check the phrases word counts are included in the those of the senctences. \r\n",
        " \r\n",
        "Complexity:\r\n",
        "* The time complexity  is O(nN+2mnM), while N, M are the lengths of the sentence\r\n",
        " and the phrase, n and m for the number of sentences and queries. O(M),O(N) for the word count scans. O(M) for checking the coverage of a query in a sentence.\r\n",
        "* The space complexity is O(nN+nM) for the word counters."
      ]
    },
    {
      "cell_type": "code",
      "metadata": {
        "id": "UPFPi8CvO13d"
      },
      "source": [
        "from collections import Counter, defaultdict\r\n",
        "from typing import List\r\n",
        "def simple_query( sentences:str, phrases:str)->List[str]:\r\n",
        "    # Count words in sentences and queries\r\n",
        "    sentence_counters=[ Counter(s.split())  for s in sentences]\r\n",
        "    phrase_counters=  [ Counter(p.split())  for p in phrases]\r\n",
        " \r\n",
        "    res=[]\r\n",
        "    for p in phrase_counters:\r\n",
        "        # check if a sentence contains all the words of a query\r\n",
        "        # by difference the counter of query to sentence\r\n",
        "        item=[i for i, s in enumerate( sentence_counters) if not p-s ]\r\n",
        "        res.append( item if item else [-1])\r\n",
        "\r\n",
        "    return res                                \r\n",
        "\r\n"
      ],
      "execution_count": null,
      "outputs": []
    },
    {
      "cell_type": "code",
      "metadata": {
        "colab": {
          "base_uri": "https://localhost:8080/"
        },
        "id": "JcOt59f7sebW",
        "outputId": "129766f7-36f1-4cc7-ffb3-3a03aa048272"
      },
      "source": [
        "#test\r\n",
        "sentences=[\"jim likes mary\",\"kate likes tom\",\"tom does not like jim\"]\r\n",
        "queries=[\"jim tom\",\"likes\"]\r\n",
        "simple_query(sentences, queries)"
      ],
      "execution_count": null,
      "outputs": [
        {
          "output_type": "execute_result",
          "data": {
            "text/plain": [
              "[[2], [0, 1]]"
            ]
          },
          "metadata": {
            "tags": []
          },
          "execution_count": 131
        }
      ]
    },
    {
      "cell_type": "markdown",
      "metadata": {
        "id": "G5p4FPleYNsS"
      },
      "source": [
        "# Problem III Song pairs\r\n",
        "\r\n",
        "Solution:\r\n",
        "* Define a dictionary to save the count of remainder moded by 60\r\n",
        "* Iterate the list of times, Check if the its counter part exisites in the dictionary\r\n",
        "* increase the remainder\r\n",
        "\r\n",
        "Complexity:\r\n",
        "* The time complexity is O(N), whilce N is the lengh of the list,\r\n",
        " since it is one time scan.\r\n",
        "* The space complexity if O(1), since the dictionary lengh is maximal 60.\r\n"
      ]
    },
    {
      "cell_type": "code",
      "metadata": {
        "id": "kH66dhX6wVik"
      },
      "source": [
        ""
      ],
      "execution_count": null,
      "outputs": []
    },
    {
      "cell_type": "code",
      "metadata": {
        "id": "FvnqfQFyaxXZ"
      },
      "source": [
        "from collections import  defaultdict\r\n",
        "def song_pairs(times: List[int]) -> int:\r\n",
        "    \"\"\"\r\n",
        "    :params:\r\n",
        "      times : list of song duration.\r\n",
        "\r\n",
        "    :return: number of pairs\r\n",
        "\r\n",
        "    \"\"\"\r\n",
        "    # dictionary for the remainder of 60\r\n",
        "    hash = defaultdict(int)\r\n",
        "    res = 0\r\n",
        "    for t in times:\r\n",
        "        r = t%60\r\n",
        "        # count the number of counter part in dictionary\r\n",
        "        if r==0:\r\n",
        "            res+=hash[0]\r\n",
        "        else:\r\n",
        "            res+=hash[60-r]\r\n",
        "        # increase the count the remainder r\r\n",
        "        hash[r]+=1\r\n",
        "    return res"
      ],
      "execution_count": null,
      "outputs": []
    },
    {
      "cell_type": "code",
      "metadata": {
        "colab": {
          "base_uri": "https://localhost:8080/"
        },
        "id": "MTVmB1kh0niL",
        "outputId": "aa0c7053-fd1a-4516-a02e-a93868d310e2"
      },
      "source": [
        "#test\r\n",
        "times=[30,20,150,100,40]\r\n",
        "song_pairs(times)"
      ],
      "execution_count": null,
      "outputs": [
        {
          "output_type": "execute_result",
          "data": {
            "text/plain": [
              "3"
            ]
          },
          "metadata": {
            "tags": []
          },
          "execution_count": 136
        }
      ]
    }
  ]
}